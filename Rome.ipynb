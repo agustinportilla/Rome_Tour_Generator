{
 "cells": [
  {
   "cell_type": "code",
   "execution_count": 1,
   "metadata": {},
   "outputs": [
    {
     "name": "stdout",
     "output_type": "stream",
     "text": [
      "Requirement already satisfied: k-means-constrained in c:\\users\\usuario\\anaconda3\\lib\\site-packages (0.6.0)\n",
      "Requirement already satisfied: six in c:\\users\\usuario\\anaconda3\\lib\\site-packages (from k-means-constrained) (1.14.0)\n",
      "Requirement already satisfied: joblib in c:\\users\\usuario\\anaconda3\\lib\\site-packages (from k-means-constrained) (0.14.1)\n",
      "Requirement already satisfied: numpy>=1.20.3 in c:\\users\\usuario\\anaconda3\\lib\\site-packages (from k-means-constrained) (1.21.4)\n",
      "Requirement already satisfied: ortools>=9.0.9048 in c:\\users\\usuario\\anaconda3\\lib\\site-packages (from k-means-constrained) (9.1.9490)\n",
      "Requirement already satisfied: scipy>=1.6.3 in c:\\users\\usuario\\anaconda3\\lib\\site-packages (from k-means-constrained) (1.7.2)\n",
      "Requirement already satisfied: absl-py>=0.13 in c:\\users\\usuario\\anaconda3\\lib\\site-packages (from ortools>=9.0.9048->k-means-constrained) (1.0.0)\n",
      "Requirement already satisfied: protobuf>=3.18.0 in c:\\users\\usuario\\anaconda3\\lib\\site-packages (from ortools>=9.0.9048->k-means-constrained) (3.19.1)\n"
     ]
    }
   ],
   "source": [
    "import pandas as pd\n",
    "import numpy as np\n",
    "from scipy.spatial import distance_matrix\n",
    "!pip install k-means-constrained\n",
    "from k_means_constrained import KMeansConstrained\n",
    "from scipy.cluster.hierarchy import dendrogram, linkage\n",
    "import matplotlib.pyplot as plt"
   ]
  },
  {
   "cell_type": "code",
   "execution_count": 2,
   "metadata": {},
   "outputs": [
    {
     "data": {
      "text/html": [
       "<div>\n",
       "<style scoped>\n",
       "    .dataframe tbody tr th:only-of-type {\n",
       "        vertical-align: middle;\n",
       "    }\n",
       "\n",
       "    .dataframe tbody tr th {\n",
       "        vertical-align: top;\n",
       "    }\n",
       "\n",
       "    .dataframe thead th {\n",
       "        text-align: right;\n",
       "    }\n",
       "</style>\n",
       "<table border=\"1\" class=\"dataframe\">\n",
       "  <thead>\n",
       "    <tr style=\"text-align: right;\">\n",
       "      <th></th>\n",
       "      <th>Location</th>\n",
       "      <th>Latitud</th>\n",
       "      <th>Longitud</th>\n",
       "      <th>City</th>\n",
       "      <th>Estimated Time</th>\n",
       "    </tr>\n",
       "  </thead>\n",
       "  <tbody>\n",
       "    <tr>\n",
       "      <th>0</th>\n",
       "      <td>Pantheon</td>\n",
       "      <td>41.898609</td>\n",
       "      <td>12.476873</td>\n",
       "      <td>Roma</td>\n",
       "      <td>0.75</td>\n",
       "    </tr>\n",
       "    <tr>\n",
       "      <th>1</th>\n",
       "      <td>Colosseo</td>\n",
       "      <td>41.890251</td>\n",
       "      <td>12.492373</td>\n",
       "      <td>Roma</td>\n",
       "      <td>1.50</td>\n",
       "    </tr>\n",
       "    <tr>\n",
       "      <th>2</th>\n",
       "      <td>Foro Romano</td>\n",
       "      <td>41.892464</td>\n",
       "      <td>12.485325</td>\n",
       "      <td>Roma</td>\n",
       "      <td>1.00</td>\n",
       "    </tr>\n",
       "    <tr>\n",
       "      <th>3</th>\n",
       "      <td>Palatino</td>\n",
       "      <td>41.888938</td>\n",
       "      <td>12.487445</td>\n",
       "      <td>Roma</td>\n",
       "      <td>1.00</td>\n",
       "    </tr>\n",
       "    <tr>\n",
       "      <th>4</th>\n",
       "      <td>Piazza Navona</td>\n",
       "      <td>41.899227</td>\n",
       "      <td>12.473085</td>\n",
       "      <td>Roma</td>\n",
       "      <td>0.50</td>\n",
       "    </tr>\n",
       "  </tbody>\n",
       "</table>\n",
       "</div>"
      ],
      "text/plain": [
       "        Location    Latitud   Longitud  City  Estimated Time\n",
       "0       Pantheon  41.898609  12.476873  Roma            0.75\n",
       "1       Colosseo  41.890251  12.492373  Roma            1.50\n",
       "2    Foro Romano  41.892464  12.485325  Roma            1.00\n",
       "3       Palatino  41.888938  12.487445  Roma            1.00\n",
       "4  Piazza Navona  41.899227  12.473085  Roma            0.50"
      ]
     },
     "execution_count": 2,
     "metadata": {},
     "output_type": "execute_result"
    }
   ],
   "source": [
    "roma = pd.read_excel('Roma_Places_to Visit.xlsx')\n",
    "roma.head(5)"
   ]
  },
  {
   "cell_type": "code",
   "execution_count": 3,
   "metadata": {},
   "outputs": [],
   "source": [
    "dd1 = distance_matrix(roma[['Longitud','Latitud']], roma[['Longitud','Latitud']], p=1)"
   ]
  },
  {
   "cell_type": "code",
   "execution_count": 4,
   "metadata": {},
   "outputs": [
    {
     "data": {
      "text/html": [
       "<div>\n",
       "<style scoped>\n",
       "    .dataframe tbody tr th:only-of-type {\n",
       "        vertical-align: middle;\n",
       "    }\n",
       "\n",
       "    .dataframe tbody tr th {\n",
       "        vertical-align: top;\n",
       "    }\n",
       "\n",
       "    .dataframe thead th {\n",
       "        text-align: right;\n",
       "    }\n",
       "</style>\n",
       "<table border=\"1\" class=\"dataframe\">\n",
       "  <thead>\n",
       "    <tr style=\"text-align: right;\">\n",
       "      <th></th>\n",
       "      <th>0</th>\n",
       "      <th>1</th>\n",
       "      <th>2</th>\n",
       "      <th>3</th>\n",
       "      <th>4</th>\n",
       "      <th>5</th>\n",
       "      <th>6</th>\n",
       "      <th>7</th>\n",
       "      <th>8</th>\n",
       "      <th>9</th>\n",
       "      <th>...</th>\n",
       "      <th>15</th>\n",
       "      <th>16</th>\n",
       "      <th>17</th>\n",
       "      <th>18</th>\n",
       "      <th>19</th>\n",
       "      <th>20</th>\n",
       "      <th>21</th>\n",
       "      <th>22</th>\n",
       "      <th>23</th>\n",
       "      <th>24</th>\n",
       "    </tr>\n",
       "  </thead>\n",
       "  <tbody>\n",
       "    <tr>\n",
       "      <th>0</th>\n",
       "      <td>0.000000</td>\n",
       "      <td>0.023858</td>\n",
       "      <td>0.014597</td>\n",
       "      <td>0.020243</td>\n",
       "      <td>0.004406</td>\n",
       "      <td>0.008763</td>\n",
       "      <td>0.017078</td>\n",
       "      <td>0.015053</td>\n",
       "      <td>0.022737</td>\n",
       "      <td>0.011192</td>\n",
       "      <td>...</td>\n",
       "      <td>0.027067</td>\n",
       "      <td>0.023352</td>\n",
       "      <td>0.026864</td>\n",
       "      <td>0.031187</td>\n",
       "      <td>0.018843</td>\n",
       "      <td>0.008932</td>\n",
       "      <td>0.022506</td>\n",
       "      <td>0.013982</td>\n",
       "      <td>0.012594</td>\n",
       "      <td>0.006054</td>\n",
       "    </tr>\n",
       "    <tr>\n",
       "      <th>1</th>\n",
       "      <td>0.023858</td>\n",
       "      <td>0.000000</td>\n",
       "      <td>0.009261</td>\n",
       "      <td>0.006241</td>\n",
       "      <td>0.028264</td>\n",
       "      <td>0.019741</td>\n",
       "      <td>0.024220</td>\n",
       "      <td>0.038911</td>\n",
       "      <td>0.004087</td>\n",
       "      <td>0.012666</td>\n",
       "      <td>...</td>\n",
       "      <td>0.050925</td>\n",
       "      <td>0.047210</td>\n",
       "      <td>0.050722</td>\n",
       "      <td>0.055045</td>\n",
       "      <td>0.042701</td>\n",
       "      <td>0.014926</td>\n",
       "      <td>0.032972</td>\n",
       "      <td>0.035386</td>\n",
       "      <td>0.025694</td>\n",
       "      <td>0.029912</td>\n",
       "    </tr>\n",
       "    <tr>\n",
       "      <th>2</th>\n",
       "      <td>0.014597</td>\n",
       "      <td>0.009261</td>\n",
       "      <td>0.000000</td>\n",
       "      <td>0.005646</td>\n",
       "      <td>0.019003</td>\n",
       "      <td>0.010480</td>\n",
       "      <td>0.019385</td>\n",
       "      <td>0.029650</td>\n",
       "      <td>0.008922</td>\n",
       "      <td>0.003405</td>\n",
       "      <td>...</td>\n",
       "      <td>0.041664</td>\n",
       "      <td>0.037949</td>\n",
       "      <td>0.041461</td>\n",
       "      <td>0.045784</td>\n",
       "      <td>0.033440</td>\n",
       "      <td>0.009533</td>\n",
       "      <td>0.024813</td>\n",
       "      <td>0.026125</td>\n",
       "      <td>0.016433</td>\n",
       "      <td>0.020651</td>\n",
       "    </tr>\n",
       "    <tr>\n",
       "      <th>3</th>\n",
       "      <td>0.020243</td>\n",
       "      <td>0.006241</td>\n",
       "      <td>0.005646</td>\n",
       "      <td>0.000000</td>\n",
       "      <td>0.024649</td>\n",
       "      <td>0.016126</td>\n",
       "      <td>0.017979</td>\n",
       "      <td>0.035296</td>\n",
       "      <td>0.010328</td>\n",
       "      <td>0.009051</td>\n",
       "      <td>...</td>\n",
       "      <td>0.047310</td>\n",
       "      <td>0.043595</td>\n",
       "      <td>0.047107</td>\n",
       "      <td>0.051430</td>\n",
       "      <td>0.039086</td>\n",
       "      <td>0.011311</td>\n",
       "      <td>0.029357</td>\n",
       "      <td>0.031771</td>\n",
       "      <td>0.022079</td>\n",
       "      <td>0.026297</td>\n",
       "    </tr>\n",
       "    <tr>\n",
       "      <th>4</th>\n",
       "      <td>0.004406</td>\n",
       "      <td>0.028264</td>\n",
       "      <td>0.019003</td>\n",
       "      <td>0.024649</td>\n",
       "      <td>0.000000</td>\n",
       "      <td>0.011933</td>\n",
       "      <td>0.013908</td>\n",
       "      <td>0.010647</td>\n",
       "      <td>0.027143</td>\n",
       "      <td>0.015598</td>\n",
       "      <td>...</td>\n",
       "      <td>0.022661</td>\n",
       "      <td>0.018946</td>\n",
       "      <td>0.022458</td>\n",
       "      <td>0.026781</td>\n",
       "      <td>0.014437</td>\n",
       "      <td>0.013338</td>\n",
       "      <td>0.019336</td>\n",
       "      <td>0.017152</td>\n",
       "      <td>0.015764</td>\n",
       "      <td>0.001648</td>\n",
       "    </tr>\n",
       "  </tbody>\n",
       "</table>\n",
       "<p>5 rows × 25 columns</p>\n",
       "</div>"
      ],
      "text/plain": [
       "         0         1         2         3         4         5         6   \\\n",
       "0  0.000000  0.023858  0.014597  0.020243  0.004406  0.008763  0.017078   \n",
       "1  0.023858  0.000000  0.009261  0.006241  0.028264  0.019741  0.024220   \n",
       "2  0.014597  0.009261  0.000000  0.005646  0.019003  0.010480  0.019385   \n",
       "3  0.020243  0.006241  0.005646  0.000000  0.024649  0.016126  0.017979   \n",
       "4  0.004406  0.028264  0.019003  0.024649  0.000000  0.011933  0.013908   \n",
       "\n",
       "         7         8         9   ...        15        16        17        18  \\\n",
       "0  0.015053  0.022737  0.011192  ...  0.027067  0.023352  0.026864  0.031187   \n",
       "1  0.038911  0.004087  0.012666  ...  0.050925  0.047210  0.050722  0.055045   \n",
       "2  0.029650  0.008922  0.003405  ...  0.041664  0.037949  0.041461  0.045784   \n",
       "3  0.035296  0.010328  0.009051  ...  0.047310  0.043595  0.047107  0.051430   \n",
       "4  0.010647  0.027143  0.015598  ...  0.022661  0.018946  0.022458  0.026781   \n",
       "\n",
       "         19        20        21        22        23        24  \n",
       "0  0.018843  0.008932  0.022506  0.013982  0.012594  0.006054  \n",
       "1  0.042701  0.014926  0.032972  0.035386  0.025694  0.029912  \n",
       "2  0.033440  0.009533  0.024813  0.026125  0.016433  0.020651  \n",
       "3  0.039086  0.011311  0.029357  0.031771  0.022079  0.026297  \n",
       "4  0.014437  0.013338  0.019336  0.017152  0.015764  0.001648  \n",
       "\n",
       "[5 rows x 25 columns]"
      ]
     },
     "execution_count": 4,
     "metadata": {},
     "output_type": "execute_result"
    }
   ],
   "source": [
    "dd1 = pd.DataFrame(dd1)\n",
    "dd1.head()"
   ]
  },
  {
   "cell_type": "code",
   "execution_count": 5,
   "metadata": {},
   "outputs": [],
   "source": [
    "X = roma[['Longitud','Latitud']]"
   ]
  },
  {
   "cell_type": "code",
   "execution_count": 6,
   "metadata": {},
   "outputs": [],
   "source": [
    "days = [2,3,4,5]"
   ]
  },
  {
   "cell_type": "code",
   "execution_count": 7,
   "metadata": {},
   "outputs": [],
   "source": [
    "for d in days:\n",
    "    KMeans = KMeansConstrained(n_clusters=d, size_min=25//d)\n",
    "    Kmeans_pred = KMeans.fit_predict(X)\n",
    "    roma[str(d)] = Kmeans_pred\n"
   ]
  },
  {
   "cell_type": "code",
   "execution_count": 8,
   "metadata": {},
   "outputs": [
    {
     "data": {
      "text/plain": [
       "<matplotlib.collections.PathCollection at 0x1e9cb7e4508>"
      ]
     },
     "execution_count": 8,
     "metadata": {},
     "output_type": "execute_result"
    },
    {
     "data": {
      "image/png": "[encoded data removed]",
      "text/plain": [
       "<Figure size 432x288 with 1 Axes>"
      ]
     },
     "metadata": {
      "needs_background": "light"
     },
     "output_type": "display_data"
    }
   ],
   "source": [
    "plt.scatter(X['Longitud'], X['Latitud'], c=Kmeans_pred)"
   ]
  },
  {
   "cell_type": "markdown",
   "metadata": {},
   "source": [
    "# Agregando distancias: 2 clusters # "
   ]
  },
  {
   "cell_type": "code",
   "execution_count": 9,
   "metadata": {},
   "outputs": [
    {
     "data": {
      "text/plain": [
       "0.06727599999999967"
      ]
     },
     "execution_count": 9,
     "metadata": {},
     "output_type": "execute_result"
    }
   ],
   "source": [
    "roma_b = roma[['Location','Latitud','Longitud','City','2']]\n",
    "roma_c = roma_b[roma_b['2']==0]\n",
    "Z=linkage(roma_c[['Longitud','Latitud']], method= \"single\", metric='cityblock')\n",
    "Suma = Z[:,2].sum()\n",
    "Suma"
   ]
  },
  {
   "cell_type": "code",
   "execution_count": 10,
   "metadata": {},
   "outputs": [
    {
     "name": "stderr",
     "output_type": "stream",
     "text": [
      "C:\\Users\\Usuario\\anaconda3\\lib\\site-packages\\ipykernel_launcher.py:2: SettingWithCopyWarning: \n",
      "A value is trying to be set on a copy of a slice from a DataFrame.\n",
      "Try using .loc[row_indexer,col_indexer] = value instead\n",
      "\n",
      "See the caveats in the documentation: https://pandas.pydata.org/pandas-docs/stable/user_guide/indexing.html#returning-a-view-versus-a-copy\n",
      "  \n"
     ]
    }
   ],
   "source": [
    "final_2a = roma_c\n",
    "final_2a['Distance_2'] = Suma"
   ]
  },
  {
   "cell_type": "code",
   "execution_count": 11,
   "metadata": {},
   "outputs": [
    {
     "data": {
      "text/plain": [
       "0.0714601999999882"
      ]
     },
     "execution_count": 11,
     "metadata": {},
     "output_type": "execute_result"
    }
   ],
   "source": [
    "roma_b = roma[['Location','Latitud','Longitud','City','2']]\n",
    "roma_c = roma_b[roma_b['2']==1]\n",
    "Z=linkage(roma_c[['Longitud','Latitud']], method= \"single\", metric='cityblock')\n",
    "Suma = Z[:,2].sum()\n",
    "Suma"
   ]
  },
  {
   "cell_type": "code",
   "execution_count": 12,
   "metadata": {},
   "outputs": [
    {
     "name": "stderr",
     "output_type": "stream",
     "text": [
      "C:\\Users\\Usuario\\anaconda3\\lib\\site-packages\\ipykernel_launcher.py:2: SettingWithCopyWarning: \n",
      "A value is trying to be set on a copy of a slice from a DataFrame.\n",
      "Try using .loc[row_indexer,col_indexer] = value instead\n",
      "\n",
      "See the caveats in the documentation: https://pandas.pydata.org/pandas-docs/stable/user_guide/indexing.html#returning-a-view-versus-a-copy\n",
      "  \n"
     ]
    }
   ],
   "source": [
    "final_2b = roma_c\n",
    "final_2b['Distance_2'] = Suma"
   ]
  },
  {
   "cell_type": "code",
   "execution_count": 13,
   "metadata": {},
   "outputs": [],
   "source": [
    "roma_final_2 = final_2a.append(final_2b).sort_index(ascending=True)"
   ]
  },
  {
   "cell_type": "markdown",
   "metadata": {},
   "source": [
    "# Agregando distancias: 3 clusters # \n"
   ]
  },
  {
   "cell_type": "code",
   "execution_count": 14,
   "metadata": {},
   "outputs": [
    {
     "name": "stderr",
     "output_type": "stream",
     "text": [
      "C:\\Users\\Usuario\\anaconda3\\lib\\site-packages\\ipykernel_launcher.py:6: SettingWithCopyWarning: \n",
      "A value is trying to be set on a copy of a slice from a DataFrame.\n",
      "Try using .loc[row_indexer,col_indexer] = value instead\n",
      "\n",
      "See the caveats in the documentation: https://pandas.pydata.org/pandas-docs/stable/user_guide/indexing.html#returning-a-view-versus-a-copy\n",
      "  \n"
     ]
    }
   ],
   "source": [
    "roma_b = roma[['Location','Latitud','Longitud','City','3']]\n",
    "roma_c = roma_b[roma_b['3']==0]\n",
    "Z=linkage(roma_c[['Longitud','Latitud']], method= \"single\", metric='cityblock')\n",
    "Suma = Z[:,2].sum()\n",
    "final_3a = roma_c\n",
    "final_3a['Distance_3'] = Suma"
   ]
  },
  {
   "cell_type": "code",
   "execution_count": 15,
   "metadata": {},
   "outputs": [
    {
     "name": "stderr",
     "output_type": "stream",
     "text": [
      "C:\\Users\\Usuario\\anaconda3\\lib\\site-packages\\ipykernel_launcher.py:6: SettingWithCopyWarning: \n",
      "A value is trying to be set on a copy of a slice from a DataFrame.\n",
      "Try using .loc[row_indexer,col_indexer] = value instead\n",
      "\n",
      "See the caveats in the documentation: https://pandas.pydata.org/pandas-docs/stable/user_guide/indexing.html#returning-a-view-versus-a-copy\n",
      "  \n"
     ]
    }
   ],
   "source": [
    "roma_b = roma[['Location','Latitud','Longitud','City','3']]\n",
    "roma_c = roma_b[roma_b['3']==1]\n",
    "Z=linkage(roma_c[['Longitud','Latitud']], method= \"single\", metric='cityblock')\n",
    "Suma = Z[:,2].sum()\n",
    "final_3b = roma_c\n",
    "final_3b['Distance_3'] = Suma"
   ]
  },
  {
   "cell_type": "code",
   "execution_count": 16,
   "metadata": {},
   "outputs": [
    {
     "name": "stderr",
     "output_type": "stream",
     "text": [
      "C:\\Users\\Usuario\\anaconda3\\lib\\site-packages\\ipykernel_launcher.py:6: SettingWithCopyWarning: \n",
      "A value is trying to be set on a copy of a slice from a DataFrame.\n",
      "Try using .loc[row_indexer,col_indexer] = value instead\n",
      "\n",
      "See the caveats in the documentation: https://pandas.pydata.org/pandas-docs/stable/user_guide/indexing.html#returning-a-view-versus-a-copy\n",
      "  \n"
     ]
    }
   ],
   "source": [
    "roma_b = roma[['Location','Latitud','Longitud','City','3']]\n",
    "roma_c = roma_b[roma_b['3']==2]\n",
    "Z=linkage(roma_c[['Longitud','Latitud']], method= \"single\", metric='cityblock')\n",
    "Suma = Z[:,2].sum()\n",
    "final_3c = roma_c\n",
    "final_3c['Distance_3'] = Suma"
   ]
  },
  {
   "cell_type": "code",
   "execution_count": 17,
   "metadata": {},
   "outputs": [],
   "source": [
    "roma_final_3 = final_3a.append(final_3b).append(final_3c).sort_index(ascending=True)"
   ]
  },
  {
   "cell_type": "markdown",
   "metadata": {},
   "source": [
    "# Agregando distancias: 4 clusters # "
   ]
  },
  {
   "cell_type": "code",
   "execution_count": 18,
   "metadata": {},
   "outputs": [
    {
     "name": "stderr",
     "output_type": "stream",
     "text": [
      "C:\\Users\\Usuario\\anaconda3\\lib\\site-packages\\ipykernel_launcher.py:6: SettingWithCopyWarning: \n",
      "A value is trying to be set on a copy of a slice from a DataFrame.\n",
      "Try using .loc[row_indexer,col_indexer] = value instead\n",
      "\n",
      "See the caveats in the documentation: https://pandas.pydata.org/pandas-docs/stable/user_guide/indexing.html#returning-a-view-versus-a-copy\n",
      "  \n"
     ]
    }
   ],
   "source": [
    "roma_b = roma[['Location','Latitud','Longitud','City','4']]\n",
    "roma_c = roma_b[roma_b['4']==0]\n",
    "Z=linkage(roma_c[['Longitud','Latitud']], method= \"single\", metric='cityblock')\n",
    "Suma = Z[:,2].sum()\n",
    "final_4a = roma_c\n",
    "final_4a['Distance_4'] = Suma"
   ]
  },
  {
   "cell_type": "code",
   "execution_count": 19,
   "metadata": {},
   "outputs": [
    {
     "name": "stderr",
     "output_type": "stream",
     "text": [
      "C:\\Users\\Usuario\\anaconda3\\lib\\site-packages\\ipykernel_launcher.py:6: SettingWithCopyWarning: \n",
      "A value is trying to be set on a copy of a slice from a DataFrame.\n",
      "Try using .loc[row_indexer,col_indexer] = value instead\n",
      "\n",
      "See the caveats in the documentation: https://pandas.pydata.org/pandas-docs/stable/user_guide/indexing.html#returning-a-view-versus-a-copy\n",
      "  \n"
     ]
    }
   ],
   "source": [
    "roma_b = roma[['Location','Latitud','Longitud','City','4']]\n",
    "roma_c = roma_b[roma_b['4']==1]\n",
    "Z=linkage(roma_c[['Longitud','Latitud']], method= \"single\", metric='cityblock')\n",
    "Suma = Z[:,2].sum()\n",
    "final_4b = roma_c\n",
    "final_4b['Distance_4'] = Suma"
   ]
  },
  {
   "cell_type": "code",
   "execution_count": 20,
   "metadata": {},
   "outputs": [
    {
     "name": "stderr",
     "output_type": "stream",
     "text": [
      "C:\\Users\\Usuario\\anaconda3\\lib\\site-packages\\ipykernel_launcher.py:6: SettingWithCopyWarning: \n",
      "A value is trying to be set on a copy of a slice from a DataFrame.\n",
      "Try using .loc[row_indexer,col_indexer] = value instead\n",
      "\n",
      "See the caveats in the documentation: https://pandas.pydata.org/pandas-docs/stable/user_guide/indexing.html#returning-a-view-versus-a-copy\n",
      "  \n"
     ]
    }
   ],
   "source": [
    "roma_b = roma[['Location','Latitud','Longitud','City','4']]\n",
    "roma_c = roma_b[roma_b['4']==2]\n",
    "Z=linkage(roma_c[['Longitud','Latitud']], method= \"single\", metric='cityblock')\n",
    "Suma = Z[:,2].sum()\n",
    "final_4c = roma_c\n",
    "final_4c['Distance_4'] = Suma"
   ]
  },
  {
   "cell_type": "code",
   "execution_count": 21,
   "metadata": {},
   "outputs": [
    {
     "name": "stderr",
     "output_type": "stream",
     "text": [
      "C:\\Users\\Usuario\\anaconda3\\lib\\site-packages\\ipykernel_launcher.py:6: SettingWithCopyWarning: \n",
      "A value is trying to be set on a copy of a slice from a DataFrame.\n",
      "Try using .loc[row_indexer,col_indexer] = value instead\n",
      "\n",
      "See the caveats in the documentation: https://pandas.pydata.org/pandas-docs/stable/user_guide/indexing.html#returning-a-view-versus-a-copy\n",
      "  \n"
     ]
    }
   ],
   "source": [
    "roma_b = roma[['Location','Latitud','Longitud','City','4']]\n",
    "roma_c = roma_b[roma_b['4']==3]\n",
    "Z=linkage(roma_c[['Longitud','Latitud']], method= \"single\", metric='cityblock')\n",
    "Suma = Z[:,2].sum()\n",
    "final_4d = roma_c\n",
    "final_4d['Distance_4'] = Suma"
   ]
  },
  {
   "cell_type": "code",
   "execution_count": 22,
   "metadata": {},
   "outputs": [],
   "source": [
    "roma_final_4 = final_4a.append(final_4b).append(final_4c).append(final_4d).sort_index(ascending=True)"
   ]
  },
  {
   "cell_type": "markdown",
   "metadata": {},
   "source": [
    "# Agregando distancias: 5 clusters # "
   ]
  },
  {
   "cell_type": "code",
   "execution_count": 23,
   "metadata": {},
   "outputs": [
    {
     "name": "stderr",
     "output_type": "stream",
     "text": [
      "C:\\Users\\Usuario\\anaconda3\\lib\\site-packages\\ipykernel_launcher.py:6: SettingWithCopyWarning: \n",
      "A value is trying to be set on a copy of a slice from a DataFrame.\n",
      "Try using .loc[row_indexer,col_indexer] = value instead\n",
      "\n",
      "See the caveats in the documentation: https://pandas.pydata.org/pandas-docs/stable/user_guide/indexing.html#returning-a-view-versus-a-copy\n",
      "  \n"
     ]
    }
   ],
   "source": [
    "roma_b = roma[['Location','Latitud','Longitud','City','5']]\n",
    "roma_c = roma_b[roma_b['5']==0]\n",
    "Z=linkage(roma_c[['Longitud','Latitud']], method= \"single\", metric='cityblock')\n",
    "Suma = Z[:,2].sum()\n",
    "final_5a = roma_c\n",
    "final_5a['Distance_5'] = Suma"
   ]
  },
  {
   "cell_type": "code",
   "execution_count": 24,
   "metadata": {},
   "outputs": [
    {
     "name": "stderr",
     "output_type": "stream",
     "text": [
      "C:\\Users\\Usuario\\anaconda3\\lib\\site-packages\\ipykernel_launcher.py:6: SettingWithCopyWarning: \n",
      "A value is trying to be set on a copy of a slice from a DataFrame.\n",
      "Try using .loc[row_indexer,col_indexer] = value instead\n",
      "\n",
      "See the caveats in the documentation: https://pandas.pydata.org/pandas-docs/stable/user_guide/indexing.html#returning-a-view-versus-a-copy\n",
      "  \n"
     ]
    }
   ],
   "source": [
    "roma_b = roma[['Location','Latitud','Longitud','City','5']]\n",
    "roma_c = roma_b[roma_b['5']==1]\n",
    "Z=linkage(roma_c[['Longitud','Latitud']], method= \"single\", metric='cityblock')\n",
    "Suma = Z[:,2].sum()\n",
    "final_5b = roma_c\n",
    "final_5b['Distance_5'] = Suma"
   ]
  },
  {
   "cell_type": "code",
   "execution_count": 25,
   "metadata": {},
   "outputs": [
    {
     "name": "stderr",
     "output_type": "stream",
     "text": [
      "C:\\Users\\Usuario\\anaconda3\\lib\\site-packages\\ipykernel_launcher.py:6: SettingWithCopyWarning: \n",
      "A value is trying to be set on a copy of a slice from a DataFrame.\n",
      "Try using .loc[row_indexer,col_indexer] = value instead\n",
      "\n",
      "See the caveats in the documentation: https://pandas.pydata.org/pandas-docs/stable/user_guide/indexing.html#returning-a-view-versus-a-copy\n",
      "  \n"
     ]
    }
   ],
   "source": [
    "roma_b = roma[['Location','Latitud','Longitud','City','5']]\n",
    "roma_c = roma_b[roma_b['5']==2]\n",
    "Z=linkage(roma_c[['Longitud','Latitud']], method= \"single\", metric='cityblock')\n",
    "Suma = Z[:,2].sum()\n",
    "final_5c = roma_c\n",
    "final_5c['Distance_5'] = Suma"
   ]
  },
  {
   "cell_type": "code",
   "execution_count": 26,
   "metadata": {},
   "outputs": [
    {
     "name": "stderr",
     "output_type": "stream",
     "text": [
      "C:\\Users\\Usuario\\anaconda3\\lib\\site-packages\\ipykernel_launcher.py:6: SettingWithCopyWarning: \n",
      "A value is trying to be set on a copy of a slice from a DataFrame.\n",
      "Try using .loc[row_indexer,col_indexer] = value instead\n",
      "\n",
      "See the caveats in the documentation: https://pandas.pydata.org/pandas-docs/stable/user_guide/indexing.html#returning-a-view-versus-a-copy\n",
      "  \n"
     ]
    }
   ],
   "source": [
    "roma_b = roma[['Location','Latitud','Longitud','City','5']]\n",
    "roma_c = roma_b[roma_b['5']==3]\n",
    "Z=linkage(roma_c[['Longitud','Latitud']], method= \"single\", metric='cityblock')\n",
    "Suma = Z[:,2].sum()\n",
    "final_5d = roma_c\n",
    "final_5d['Distance_5'] = Suma"
   ]
  },
  {
   "cell_type": "code",
   "execution_count": 27,
   "metadata": {},
   "outputs": [
    {
     "name": "stderr",
     "output_type": "stream",
     "text": [
      "C:\\Users\\Usuario\\anaconda3\\lib\\site-packages\\ipykernel_launcher.py:6: SettingWithCopyWarning: \n",
      "A value is trying to be set on a copy of a slice from a DataFrame.\n",
      "Try using .loc[row_indexer,col_indexer] = value instead\n",
      "\n",
      "See the caveats in the documentation: https://pandas.pydata.org/pandas-docs/stable/user_guide/indexing.html#returning-a-view-versus-a-copy\n",
      "  \n"
     ]
    }
   ],
   "source": [
    "roma_b = roma[['Location','Latitud','Longitud','City','5']]\n",
    "roma_c = roma_b[roma_b['5']==4]\n",
    "Z=linkage(roma_c[['Longitud','Latitud']], method= \"single\", metric='cityblock')\n",
    "Suma = Z[:,2].sum()\n",
    "final_5e = roma_c\n",
    "final_5e['Distance_5'] = Suma"
   ]
  },
  {
   "cell_type": "code",
   "execution_count": 28,
   "metadata": {},
   "outputs": [],
   "source": [
    "roma_final_5 = final_5a.append(final_5b).append(final_5c).append(final_5d).append(final_5e).sort_index(ascending=True)"
   ]
  },
  {
   "cell_type": "code",
   "execution_count": 29,
   "metadata": {},
   "outputs": [],
   "source": [
    "#Consolidating tables"
   ]
  },
  {
   "cell_type": "code",
   "execution_count": 30,
   "metadata": {},
   "outputs": [],
   "source": [
    "roma['Distance_2'] = roma_final_2['Distance_2']*138.3\n",
    "roma['Distance_3'] = roma_final_3['Distance_3']*138.3\n",
    "roma['Distance_4'] = roma_final_4['Distance_4']*138.3\n",
    "roma['Distance_5'] = roma_final_5['Distance_5']*138.3"
   ]
  },
  {
   "cell_type": "code",
   "execution_count": 31,
   "metadata": {},
   "outputs": [
    {
     "data": {
      "text/html": [
       "<div>\n",
       "<style scoped>\n",
       "    .dataframe tbody tr th:only-of-type {\n",
       "        vertical-align: middle;\n",
       "    }\n",
       "\n",
       "    .dataframe tbody tr th {\n",
       "        vertical-align: top;\n",
       "    }\n",
       "\n",
       "    .dataframe thead th {\n",
       "        text-align: right;\n",
       "    }\n",
       "</style>\n",
       "<table border=\"1\" class=\"dataframe\">\n",
       "  <thead>\n",
       "    <tr style=\"text-align: right;\">\n",
       "      <th></th>\n",
       "      <th>Location</th>\n",
       "      <th>Latitud</th>\n",
       "      <th>Longitud</th>\n",
       "      <th>City</th>\n",
       "      <th>Estimated Time</th>\n",
       "      <th>2</th>\n",
       "      <th>3</th>\n",
       "      <th>4</th>\n",
       "      <th>5</th>\n",
       "      <th>Distance_2</th>\n",
       "      <th>Distance_3</th>\n",
       "      <th>Distance_4</th>\n",
       "      <th>Distance_5</th>\n",
       "      <th>Day2</th>\n",
       "      <th>Day3</th>\n",
       "      <th>Day4</th>\n",
       "      <th>Day5</th>\n",
       "    </tr>\n",
       "  </thead>\n",
       "  <tbody>\n",
       "    <tr>\n",
       "      <th>0</th>\n",
       "      <td>Pantheon</td>\n",
       "      <td>41.898609</td>\n",
       "      <td>12.476873</td>\n",
       "      <td>Roma</td>\n",
       "      <td>0.75</td>\n",
       "      <td>0</td>\n",
       "      <td>2</td>\n",
       "      <td>3</td>\n",
       "      <td>2</td>\n",
       "      <td>9.304271</td>\n",
       "      <td>5.275039</td>\n",
       "      <td>4.099212</td>\n",
       "      <td>3.685418</td>\n",
       "      <td>0 9.304270799999955</td>\n",
       "      <td>2 5.275038600000816</td>\n",
       "      <td>3 4.099212000000077</td>\n",
       "      <td>2 3.685418400000216</td>\n",
       "    </tr>\n",
       "    <tr>\n",
       "      <th>1</th>\n",
       "      <td>Colosseo</td>\n",
       "      <td>41.890251</td>\n",
       "      <td>12.492373</td>\n",
       "      <td>Roma</td>\n",
       "      <td>1.50</td>\n",
       "      <td>0</td>\n",
       "      <td>0</td>\n",
       "      <td>2</td>\n",
       "      <td>3</td>\n",
       "      <td>9.304271</td>\n",
       "      <td>6.278128</td>\n",
       "      <td>4.476771</td>\n",
       "      <td>3.695929</td>\n",
       "      <td>0 9.304270799999955</td>\n",
       "      <td>0 6.278128499998905</td>\n",
       "      <td>2 4.476770999998067</td>\n",
       "      <td>3 3.6959291999989827</td>\n",
       "    </tr>\n",
       "    <tr>\n",
       "      <th>2</th>\n",
       "      <td>Foro Romano</td>\n",
       "      <td>41.892464</td>\n",
       "      <td>12.485325</td>\n",
       "      <td>Roma</td>\n",
       "      <td>1.00</td>\n",
       "      <td>0</td>\n",
       "      <td>0</td>\n",
       "      <td>2</td>\n",
       "      <td>0</td>\n",
       "      <td>9.304271</td>\n",
       "      <td>6.278128</td>\n",
       "      <td>4.476771</td>\n",
       "      <td>2.039925</td>\n",
       "      <td>0 9.304270799999955</td>\n",
       "      <td>0 6.278128499998905</td>\n",
       "      <td>2 4.476770999998067</td>\n",
       "      <td>0 2.039925000000405</td>\n",
       "    </tr>\n",
       "    <tr>\n",
       "      <th>3</th>\n",
       "      <td>Palatino</td>\n",
       "      <td>41.888938</td>\n",
       "      <td>12.487445</td>\n",
       "      <td>Roma</td>\n",
       "      <td>1.00</td>\n",
       "      <td>0</td>\n",
       "      <td>0</td>\n",
       "      <td>2</td>\n",
       "      <td>3</td>\n",
       "      <td>9.304271</td>\n",
       "      <td>6.278128</td>\n",
       "      <td>4.476771</td>\n",
       "      <td>3.695929</td>\n",
       "      <td>0 9.304270799999955</td>\n",
       "      <td>0 6.278128499998905</td>\n",
       "      <td>2 4.476770999998067</td>\n",
       "      <td>3 3.6959291999989827</td>\n",
       "    </tr>\n",
       "    <tr>\n",
       "      <th>4</th>\n",
       "      <td>Piazza Navona</td>\n",
       "      <td>41.899227</td>\n",
       "      <td>12.473085</td>\n",
       "      <td>Roma</td>\n",
       "      <td>0.50</td>\n",
       "      <td>1</td>\n",
       "      <td>2</td>\n",
       "      <td>0</td>\n",
       "      <td>4</td>\n",
       "      <td>9.882946</td>\n",
       "      <td>5.275039</td>\n",
       "      <td>4.305998</td>\n",
       "      <td>5.237283</td>\n",
       "      <td>1 9.88294565999837</td>\n",
       "      <td>2 5.275038600000816</td>\n",
       "      <td>0 4.305998159999698</td>\n",
       "      <td>4 5.2372826999991</td>\n",
       "    </tr>\n",
       "  </tbody>\n",
       "</table>\n",
       "</div>"
      ],
      "text/plain": [
       "        Location    Latitud   Longitud  City  Estimated Time  2  3  4  5  \\\n",
       "0       Pantheon  41.898609  12.476873  Roma            0.75  0  2  3  2   \n",
       "1       Colosseo  41.890251  12.492373  Roma            1.50  0  0  2  3   \n",
       "2    Foro Romano  41.892464  12.485325  Roma            1.00  0  0  2  0   \n",
       "3       Palatino  41.888938  12.487445  Roma            1.00  0  0  2  3   \n",
       "4  Piazza Navona  41.899227  12.473085  Roma            0.50  1  2  0  4   \n",
       "\n",
       "   Distance_2  Distance_3  Distance_4  Distance_5                 Day2  \\\n",
       "0    9.304271    5.275039    4.099212    3.685418  0 9.304270799999955   \n",
       "1    9.304271    6.278128    4.476771    3.695929  0 9.304270799999955   \n",
       "2    9.304271    6.278128    4.476771    2.039925  0 9.304270799999955   \n",
       "3    9.304271    6.278128    4.476771    3.695929  0 9.304270799999955   \n",
       "4    9.882946    5.275039    4.305998    5.237283   1 9.88294565999837   \n",
       "\n",
       "                  Day3                 Day4                  Day5  \n",
       "0  2 5.275038600000816  3 4.099212000000077   2 3.685418400000216  \n",
       "1  0 6.278128499998905  2 4.476770999998067  3 3.6959291999989827  \n",
       "2  0 6.278128499998905  2 4.476770999998067   0 2.039925000000405  \n",
       "3  0 6.278128499998905  2 4.476770999998067  3 3.6959291999989827  \n",
       "4  2 5.275038600000816  0 4.305998159999698     4 5.2372826999991  "
      ]
     },
     "execution_count": 31,
     "metadata": {},
     "output_type": "execute_result"
    }
   ],
   "source": [
    "roma['Day2'] = roma['2'].astype(str) + ' ' + roma['Distance_2'].astype(str)\n",
    "roma['Day3'] = roma['3'].astype(str) + ' ' + roma['Distance_3'].astype(str)\n",
    "roma['Day4'] = roma['4'].astype(str) + ' ' + roma['Distance_4'].astype(str)\n",
    "roma['Day5'] = roma['5'].astype(str) + ' ' + roma['Distance_5'].astype(str)\n",
    "roma.drop(['2', '3','4','5','Distance_2', 'Distance_3', 'Distance_4', 'Distance_5'], axis=1)\n",
    "roma.head(5)"
   ]
  },
  {
   "cell_type": "code",
   "execution_count": 32,
   "metadata": {},
   "outputs": [],
   "source": [
    "keep = roma[['Location','Latitud','Longitud','City','Estimated Time']]\n",
    "dontkeep = roma[['Day2','Day3','Day4','Day5']]"
   ]
  },
  {
   "cell_type": "code",
   "execution_count": 33,
   "metadata": {},
   "outputs": [
    {
     "data": {
      "text/html": [
       "<div>\n",
       "<style scoped>\n",
       "    .dataframe tbody tr th:only-of-type {\n",
       "        vertical-align: middle;\n",
       "    }\n",
       "\n",
       "    .dataframe tbody tr th {\n",
       "        vertical-align: top;\n",
       "    }\n",
       "\n",
       "    .dataframe thead th {\n",
       "        text-align: right;\n",
       "    }\n",
       "</style>\n",
       "<table border=\"1\" class=\"dataframe\">\n",
       "  <thead>\n",
       "    <tr style=\"text-align: right;\">\n",
       "      <th></th>\n",
       "      <th>Location</th>\n",
       "      <th>Latitud</th>\n",
       "      <th>Longitud</th>\n",
       "      <th>City</th>\n",
       "      <th>Estimated Time</th>\n",
       "      <th>variable</th>\n",
       "      <th>Cluster+Dist</th>\n",
       "    </tr>\n",
       "  </thead>\n",
       "  <tbody>\n",
       "    <tr>\n",
       "      <th>0</th>\n",
       "      <td>Pantheon</td>\n",
       "      <td>41.898609</td>\n",
       "      <td>12.476873</td>\n",
       "      <td>Roma</td>\n",
       "      <td>0.75</td>\n",
       "      <td>Day2</td>\n",
       "      <td>0 9.304270799999955</td>\n",
       "    </tr>\n",
       "    <tr>\n",
       "      <th>1</th>\n",
       "      <td>Colosseo</td>\n",
       "      <td>41.890251</td>\n",
       "      <td>12.492373</td>\n",
       "      <td>Roma</td>\n",
       "      <td>1.50</td>\n",
       "      <td>Day2</td>\n",
       "      <td>0 9.304270799999955</td>\n",
       "    </tr>\n",
       "  </tbody>\n",
       "</table>\n",
       "</div>"
      ],
      "text/plain": [
       "   Location    Latitud   Longitud  City  Estimated Time variable  \\\n",
       "0  Pantheon  41.898609  12.476873  Roma            0.75     Day2   \n",
       "1  Colosseo  41.890251  12.492373  Roma            1.50     Day2   \n",
       "\n",
       "          Cluster+Dist  \n",
       "0  0 9.304270799999955  \n",
       "1  0 9.304270799999955  "
      ]
     },
     "execution_count": 33,
     "metadata": {},
     "output_type": "execute_result"
    }
   ],
   "source": [
    "roma_unpivoted = pd.melt(roma, id_vars=keep, value_vars=dontkeep, value_name = \"Cluster+Dist\")\n",
    "roma_unpivoted.head(2)"
   ]
  },
  {
   "cell_type": "code",
   "execution_count": 34,
   "metadata": {},
   "outputs": [],
   "source": [
    "roma_unpivoted[['Cluster','Distance']] = roma_unpivoted['Cluster+Dist'].str.split(expand=True)"
   ]
  },
  {
   "cell_type": "code",
   "execution_count": 35,
   "metadata": {},
   "outputs": [
    {
     "data": {
      "text/html": [
       "<div>\n",
       "<style scoped>\n",
       "    .dataframe tbody tr th:only-of-type {\n",
       "        vertical-align: middle;\n",
       "    }\n",
       "\n",
       "    .dataframe tbody tr th {\n",
       "        vertical-align: top;\n",
       "    }\n",
       "\n",
       "    .dataframe thead th {\n",
       "        text-align: right;\n",
       "    }\n",
       "</style>\n",
       "<table border=\"1\" class=\"dataframe\">\n",
       "  <thead>\n",
       "    <tr style=\"text-align: right;\">\n",
       "      <th></th>\n",
       "      <th>Location</th>\n",
       "      <th>Latitud</th>\n",
       "      <th>Longitud</th>\n",
       "      <th>City</th>\n",
       "      <th>Estimated Time</th>\n",
       "      <th>variable</th>\n",
       "      <th>Cluster</th>\n",
       "      <th>Distance</th>\n",
       "    </tr>\n",
       "  </thead>\n",
       "  <tbody>\n",
       "    <tr>\n",
       "      <th>0</th>\n",
       "      <td>Pantheon</td>\n",
       "      <td>41.898609</td>\n",
       "      <td>12.476873</td>\n",
       "      <td>Roma</td>\n",
       "      <td>0.75</td>\n",
       "      <td>Day2</td>\n",
       "      <td>0</td>\n",
       "      <td>9.304270799999955</td>\n",
       "    </tr>\n",
       "    <tr>\n",
       "      <th>1</th>\n",
       "      <td>Colosseo</td>\n",
       "      <td>41.890251</td>\n",
       "      <td>12.492373</td>\n",
       "      <td>Roma</td>\n",
       "      <td>1.50</td>\n",
       "      <td>Day2</td>\n",
       "      <td>0</td>\n",
       "      <td>9.304270799999955</td>\n",
       "    </tr>\n",
       "  </tbody>\n",
       "</table>\n",
       "</div>"
      ],
      "text/plain": [
       "   Location    Latitud   Longitud  City  Estimated Time variable Cluster  \\\n",
       "0  Pantheon  41.898609  12.476873  Roma            0.75     Day2       0   \n",
       "1  Colosseo  41.890251  12.492373  Roma            1.50     Day2       0   \n",
       "\n",
       "            Distance  \n",
       "0  9.304270799999955  \n",
       "1  9.304270799999955  "
      ]
     },
     "execution_count": 35,
     "metadata": {},
     "output_type": "execute_result"
    }
   ],
   "source": [
    "roma_unpivoted = roma_unpivoted.drop('Cluster+Dist', axis=1)\n",
    "roma_unpivoted.head(2)"
   ]
  },
  {
   "cell_type": "code",
   "execution_count": 36,
   "metadata": {},
   "outputs": [],
   "source": [
    "roma_unpivoted['Distance'] = roma_unpivoted['Distance'].astype(float)"
   ]
  },
  {
   "cell_type": "code",
   "execution_count": 37,
   "metadata": {},
   "outputs": [
    {
     "data": {
      "text/html": [
       "<div>\n",
       "<style scoped>\n",
       "    .dataframe tbody tr th:only-of-type {\n",
       "        vertical-align: middle;\n",
       "    }\n",
       "\n",
       "    .dataframe tbody tr th {\n",
       "        vertical-align: top;\n",
       "    }\n",
       "\n",
       "    .dataframe thead th {\n",
       "        text-align: right;\n",
       "    }\n",
       "</style>\n",
       "<table border=\"1\" class=\"dataframe\">\n",
       "  <thead>\n",
       "    <tr style=\"text-align: right;\">\n",
       "      <th></th>\n",
       "      <th>Location</th>\n",
       "      <th>Latitud</th>\n",
       "      <th>Longitud</th>\n",
       "      <th>City</th>\n",
       "      <th>Estimated Time</th>\n",
       "      <th>variable</th>\n",
       "      <th>Cluster</th>\n",
       "      <th>Distance</th>\n",
       "    </tr>\n",
       "  </thead>\n",
       "  <tbody>\n",
       "    <tr>\n",
       "      <th>0</th>\n",
       "      <td>Pantheon</td>\n",
       "      <td>41.898609</td>\n",
       "      <td>12.476873</td>\n",
       "      <td>Roma</td>\n",
       "      <td>0.75</td>\n",
       "      <td>Day2</td>\n",
       "      <td>0</td>\n",
       "      <td>9.3043</td>\n",
       "    </tr>\n",
       "    <tr>\n",
       "      <th>1</th>\n",
       "      <td>Colosseo</td>\n",
       "      <td>41.890251</td>\n",
       "      <td>12.492373</td>\n",
       "      <td>Roma</td>\n",
       "      <td>1.50</td>\n",
       "      <td>Day2</td>\n",
       "      <td>0</td>\n",
       "      <td>9.3043</td>\n",
       "    </tr>\n",
       "    <tr>\n",
       "      <th>2</th>\n",
       "      <td>Foro Romano</td>\n",
       "      <td>41.892464</td>\n",
       "      <td>12.485325</td>\n",
       "      <td>Roma</td>\n",
       "      <td>1.00</td>\n",
       "      <td>Day2</td>\n",
       "      <td>0</td>\n",
       "      <td>9.3043</td>\n",
       "    </tr>\n",
       "    <tr>\n",
       "      <th>3</th>\n",
       "      <td>Palatino</td>\n",
       "      <td>41.888938</td>\n",
       "      <td>12.487445</td>\n",
       "      <td>Roma</td>\n",
       "      <td>1.00</td>\n",
       "      <td>Day2</td>\n",
       "      <td>0</td>\n",
       "      <td>9.3043</td>\n",
       "    </tr>\n",
       "    <tr>\n",
       "      <th>4</th>\n",
       "      <td>Piazza Navona</td>\n",
       "      <td>41.899227</td>\n",
       "      <td>12.473085</td>\n",
       "      <td>Roma</td>\n",
       "      <td>0.50</td>\n",
       "      <td>Day2</td>\n",
       "      <td>1</td>\n",
       "      <td>9.8829</td>\n",
       "    </tr>\n",
       "  </tbody>\n",
       "</table>\n",
       "</div>"
      ],
      "text/plain": [
       "        Location    Latitud   Longitud  City  Estimated Time variable Cluster  \\\n",
       "0       Pantheon  41.898609  12.476873  Roma            0.75     Day2       0   \n",
       "1       Colosseo  41.890251  12.492373  Roma            1.50     Day2       0   \n",
       "2    Foro Romano  41.892464  12.485325  Roma            1.00     Day2       0   \n",
       "3       Palatino  41.888938  12.487445  Roma            1.00     Day2       0   \n",
       "4  Piazza Navona  41.899227  12.473085  Roma            0.50     Day2       1   \n",
       "\n",
       "   Distance  \n",
       "0    9.3043  \n",
       "1    9.3043  \n",
       "2    9.3043  \n",
       "3    9.3043  \n",
       "4    9.8829  "
      ]
     },
     "execution_count": 37,
     "metadata": {},
     "output_type": "execute_result"
    }
   ],
   "source": [
    "roma_unpivoted['Distance'] = round(roma_unpivoted['Distance'],4)\n",
    "roma_unpivoted.head()"
   ]
  },
  {
   "cell_type": "code",
   "execution_count": 38,
   "metadata": {},
   "outputs": [
    {
     "data": {
      "text/html": [
       "<div>\n",
       "<style scoped>\n",
       "    .dataframe tbody tr th:only-of-type {\n",
       "        vertical-align: middle;\n",
       "    }\n",
       "\n",
       "    .dataframe tbody tr th {\n",
       "        vertical-align: top;\n",
       "    }\n",
       "\n",
       "    .dataframe thead th {\n",
       "        text-align: right;\n",
       "    }\n",
       "</style>\n",
       "<table border=\"1\" class=\"dataframe\">\n",
       "  <thead>\n",
       "    <tr style=\"text-align: right;\">\n",
       "      <th></th>\n",
       "      <th>Location</th>\n",
       "      <th>Latitud</th>\n",
       "      <th>Longitud</th>\n",
       "      <th>City</th>\n",
       "      <th>Estimated Time</th>\n",
       "      <th>variable</th>\n",
       "      <th>Cluster</th>\n",
       "      <th>Distance</th>\n",
       "      <th>Walking_Time</th>\n",
       "    </tr>\n",
       "  </thead>\n",
       "  <tbody>\n",
       "    <tr>\n",
       "      <th>0</th>\n",
       "      <td>Pantheon</td>\n",
       "      <td>41.898609</td>\n",
       "      <td>12.476873</td>\n",
       "      <td>Roma</td>\n",
       "      <td>0.75</td>\n",
       "      <td>Day2</td>\n",
       "      <td>0</td>\n",
       "      <td>9.3043</td>\n",
       "      <td>1.86086</td>\n",
       "    </tr>\n",
       "    <tr>\n",
       "      <th>1</th>\n",
       "      <td>Colosseo</td>\n",
       "      <td>41.890251</td>\n",
       "      <td>12.492373</td>\n",
       "      <td>Roma</td>\n",
       "      <td>1.50</td>\n",
       "      <td>Day2</td>\n",
       "      <td>0</td>\n",
       "      <td>9.3043</td>\n",
       "      <td>1.86086</td>\n",
       "    </tr>\n",
       "    <tr>\n",
       "      <th>2</th>\n",
       "      <td>Foro Romano</td>\n",
       "      <td>41.892464</td>\n",
       "      <td>12.485325</td>\n",
       "      <td>Roma</td>\n",
       "      <td>1.00</td>\n",
       "      <td>Day2</td>\n",
       "      <td>0</td>\n",
       "      <td>9.3043</td>\n",
       "      <td>1.86086</td>\n",
       "    </tr>\n",
       "    <tr>\n",
       "      <th>3</th>\n",
       "      <td>Palatino</td>\n",
       "      <td>41.888938</td>\n",
       "      <td>12.487445</td>\n",
       "      <td>Roma</td>\n",
       "      <td>1.00</td>\n",
       "      <td>Day2</td>\n",
       "      <td>0</td>\n",
       "      <td>9.3043</td>\n",
       "      <td>1.86086</td>\n",
       "    </tr>\n",
       "    <tr>\n",
       "      <th>4</th>\n",
       "      <td>Piazza Navona</td>\n",
       "      <td>41.899227</td>\n",
       "      <td>12.473085</td>\n",
       "      <td>Roma</td>\n",
       "      <td>0.50</td>\n",
       "      <td>Day2</td>\n",
       "      <td>1</td>\n",
       "      <td>9.8829</td>\n",
       "      <td>1.97658</td>\n",
       "    </tr>\n",
       "  </tbody>\n",
       "</table>\n",
       "</div>"
      ],
      "text/plain": [
       "        Location    Latitud   Longitud  City  Estimated Time variable Cluster  \\\n",
       "0       Pantheon  41.898609  12.476873  Roma            0.75     Day2       0   \n",
       "1       Colosseo  41.890251  12.492373  Roma            1.50     Day2       0   \n",
       "2    Foro Romano  41.892464  12.485325  Roma            1.00     Day2       0   \n",
       "3       Palatino  41.888938  12.487445  Roma            1.00     Day2       0   \n",
       "4  Piazza Navona  41.899227  12.473085  Roma            0.50     Day2       1   \n",
       "\n",
       "   Distance  Walking_Time  \n",
       "0    9.3043       1.86086  \n",
       "1    9.3043       1.86086  \n",
       "2    9.3043       1.86086  \n",
       "3    9.3043       1.86086  \n",
       "4    9.8829       1.97658  "
      ]
     },
     "execution_count": 38,
     "metadata": {},
     "output_type": "execute_result"
    }
   ],
   "source": [
    "roma_unpivoted['Walking_Time'] = roma_unpivoted['Distance']/5\n",
    "roma_unpivoted.head()"
   ]
  },
  {
   "cell_type": "code",
   "execution_count": 39,
   "metadata": {},
   "outputs": [],
   "source": [
    "roma_unpivoted['Visit_Time'] = roma_unpivoted['Estimated Time']"
   ]
  },
  {
   "cell_type": "code",
   "execution_count": 40,
   "metadata": {},
   "outputs": [
    {
     "data": {
      "text/html": [
       "<div>\n",
       "<style scoped>\n",
       "    .dataframe tbody tr th:only-of-type {\n",
       "        vertical-align: middle;\n",
       "    }\n",
       "\n",
       "    .dataframe tbody tr th {\n",
       "        vertical-align: top;\n",
       "    }\n",
       "\n",
       "    .dataframe thead th {\n",
       "        text-align: right;\n",
       "    }\n",
       "</style>\n",
       "<table border=\"1\" class=\"dataframe\">\n",
       "  <thead>\n",
       "    <tr style=\"text-align: right;\">\n",
       "      <th></th>\n",
       "      <th>Location</th>\n",
       "      <th>Latitud</th>\n",
       "      <th>Longitud</th>\n",
       "      <th>City</th>\n",
       "      <th>variable</th>\n",
       "      <th>Cluster</th>\n",
       "      <th>Distance</th>\n",
       "      <th>Walking_Time</th>\n",
       "      <th>Visit_Time</th>\n",
       "    </tr>\n",
       "  </thead>\n",
       "  <tbody>\n",
       "    <tr>\n",
       "      <th>0</th>\n",
       "      <td>Pantheon</td>\n",
       "      <td>41.898609</td>\n",
       "      <td>12.476873</td>\n",
       "      <td>Roma</td>\n",
       "      <td>Day2</td>\n",
       "      <td>0</td>\n",
       "      <td>9.3043</td>\n",
       "      <td>1.86086</td>\n",
       "      <td>0.75</td>\n",
       "    </tr>\n",
       "    <tr>\n",
       "      <th>1</th>\n",
       "      <td>Colosseo</td>\n",
       "      <td>41.890251</td>\n",
       "      <td>12.492373</td>\n",
       "      <td>Roma</td>\n",
       "      <td>Day2</td>\n",
       "      <td>0</td>\n",
       "      <td>9.3043</td>\n",
       "      <td>1.86086</td>\n",
       "      <td>1.50</td>\n",
       "    </tr>\n",
       "  </tbody>\n",
       "</table>\n",
       "</div>"
      ],
      "text/plain": [
       "   Location    Latitud   Longitud  City variable Cluster  Distance  \\\n",
       "0  Pantheon  41.898609  12.476873  Roma     Day2       0    9.3043   \n",
       "1  Colosseo  41.890251  12.492373  Roma     Day2       0    9.3043   \n",
       "\n",
       "   Walking_Time  Visit_Time  \n",
       "0       1.86086        0.75  \n",
       "1       1.86086        1.50  "
      ]
     },
     "execution_count": 40,
     "metadata": {},
     "output_type": "execute_result"
    }
   ],
   "source": [
    "roma_unpivoted = roma_unpivoted.drop(['Estimated Time'], axis=1)\n",
    "roma_unpivoted.head(2)"
   ]
  },
  {
   "cell_type": "code",
   "execution_count": 41,
   "metadata": {},
   "outputs": [],
   "source": [
    "roma_unpivoted['Total_Time'] = roma_unpivoted['Walking_Time'] + roma_unpivoted['Visit_Time']"
   ]
  },
  {
   "cell_type": "code",
   "execution_count": 42,
   "metadata": {},
   "outputs": [
    {
     "data": {
      "text/html": [
       "<div>\n",
       "<style scoped>\n",
       "    .dataframe tbody tr th:only-of-type {\n",
       "        vertical-align: middle;\n",
       "    }\n",
       "\n",
       "    .dataframe tbody tr th {\n",
       "        vertical-align: top;\n",
       "    }\n",
       "\n",
       "    .dataframe thead th {\n",
       "        text-align: right;\n",
       "    }\n",
       "</style>\n",
       "<table border=\"1\" class=\"dataframe\">\n",
       "  <thead>\n",
       "    <tr style=\"text-align: right;\">\n",
       "      <th></th>\n",
       "      <th>Location</th>\n",
       "      <th>Latitud</th>\n",
       "      <th>Longitud</th>\n",
       "      <th>City</th>\n",
       "      <th>variable</th>\n",
       "      <th>Cluster</th>\n",
       "      <th>Distance</th>\n",
       "      <th>Walking_Time</th>\n",
       "      <th>Visit_Time</th>\n",
       "      <th>Total_Time</th>\n",
       "    </tr>\n",
       "  </thead>\n",
       "  <tbody>\n",
       "    <tr>\n",
       "      <th>0</th>\n",
       "      <td>Pantheon</td>\n",
       "      <td>41.898609</td>\n",
       "      <td>12.476873</td>\n",
       "      <td>Roma</td>\n",
       "      <td>Day2</td>\n",
       "      <td>0</td>\n",
       "      <td>9.3043</td>\n",
       "      <td>1.86086</td>\n",
       "      <td>0.75</td>\n",
       "      <td>2.61086</td>\n",
       "    </tr>\n",
       "    <tr>\n",
       "      <th>1</th>\n",
       "      <td>Colosseo</td>\n",
       "      <td>41.890251</td>\n",
       "      <td>12.492373</td>\n",
       "      <td>Roma</td>\n",
       "      <td>Day2</td>\n",
       "      <td>0</td>\n",
       "      <td>9.3043</td>\n",
       "      <td>1.86086</td>\n",
       "      <td>1.50</td>\n",
       "      <td>3.36086</td>\n",
       "    </tr>\n",
       "  </tbody>\n",
       "</table>\n",
       "</div>"
      ],
      "text/plain": [
       "   Location    Latitud   Longitud  City variable Cluster  Distance  \\\n",
       "0  Pantheon  41.898609  12.476873  Roma     Day2       0    9.3043   \n",
       "1  Colosseo  41.890251  12.492373  Roma     Day2       0    9.3043   \n",
       "\n",
       "   Walking_Time  Visit_Time  Total_Time  \n",
       "0       1.86086        0.75     2.61086  \n",
       "1       1.86086        1.50     3.36086  "
      ]
     },
     "execution_count": 42,
     "metadata": {},
     "output_type": "execute_result"
    }
   ],
   "source": [
    "roma_unpivoted.head(2)"
   ]
  },
  {
   "cell_type": "code",
   "execution_count": 43,
   "metadata": {},
   "outputs": [
    {
     "data": {
      "text/html": [
       "<div>\n",
       "<style scoped>\n",
       "    .dataframe tbody tr th:only-of-type {\n",
       "        vertical-align: middle;\n",
       "    }\n",
       "\n",
       "    .dataframe tbody tr th {\n",
       "        vertical-align: top;\n",
       "    }\n",
       "\n",
       "    .dataframe thead th {\n",
       "        text-align: right;\n",
       "    }\n",
       "</style>\n",
       "<table border=\"1\" class=\"dataframe\">\n",
       "  <thead>\n",
       "    <tr style=\"text-align: right;\">\n",
       "      <th></th>\n",
       "      <th>Location</th>\n",
       "      <th>Latitud</th>\n",
       "      <th>Longitud</th>\n",
       "      <th>City</th>\n",
       "      <th>variable</th>\n",
       "      <th>Cluster</th>\n",
       "      <th>Distance</th>\n",
       "      <th>Walking_Time</th>\n",
       "      <th>Visit_Time</th>\n",
       "      <th>Total_Time</th>\n",
       "    </tr>\n",
       "  </thead>\n",
       "  <tbody>\n",
       "    <tr>\n",
       "      <th>0</th>\n",
       "      <td>Pantheon</td>\n",
       "      <td>41.898609</td>\n",
       "      <td>12.476873</td>\n",
       "      <td>Roma</td>\n",
       "      <td>2</td>\n",
       "      <td>0</td>\n",
       "      <td>9.3043</td>\n",
       "      <td>1.86086</td>\n",
       "      <td>0.75</td>\n",
       "      <td>2.61086</td>\n",
       "    </tr>\n",
       "    <tr>\n",
       "      <th>1</th>\n",
       "      <td>Colosseo</td>\n",
       "      <td>41.890251</td>\n",
       "      <td>12.492373</td>\n",
       "      <td>Roma</td>\n",
       "      <td>2</td>\n",
       "      <td>0</td>\n",
       "      <td>9.3043</td>\n",
       "      <td>1.86086</td>\n",
       "      <td>1.50</td>\n",
       "      <td>3.36086</td>\n",
       "    </tr>\n",
       "  </tbody>\n",
       "</table>\n",
       "</div>"
      ],
      "text/plain": [
       "   Location    Latitud   Longitud  City variable Cluster  Distance  \\\n",
       "0  Pantheon  41.898609  12.476873  Roma        2       0    9.3043   \n",
       "1  Colosseo  41.890251  12.492373  Roma        2       0    9.3043   \n",
       "\n",
       "   Walking_Time  Visit_Time  Total_Time  \n",
       "0       1.86086        0.75     2.61086  \n",
       "1       1.86086        1.50     3.36086  "
      ]
     },
     "execution_count": 43,
     "metadata": {},
     "output_type": "execute_result"
    }
   ],
   "source": [
    "roma_unpivoted[\"variable\"] = roma_unpivoted[\"variable\"].str.replace(\"Day\", \"\")\n",
    "roma_unpivoted.head(2)"
   ]
  },
  {
   "cell_type": "code",
   "execution_count": 44,
   "metadata": {},
   "outputs": [
    {
     "data": {
      "text/plain": [
       "Index(['Location', 'Latitud', 'Longitud', 'City', 'variable', 'Cluster',\n",
       "       'Distance', 'Walking_Time', 'Visit_Time', 'Total_Time'],\n",
       "      dtype='object')"
      ]
     },
     "execution_count": 44,
     "metadata": {},
     "output_type": "execute_result"
    }
   ],
   "source": [
    "roma_unpivoted.columns"
   ]
  },
  {
   "cell_type": "code",
   "execution_count": 46,
   "metadata": {},
   "outputs": [
    {
     "data": {
      "text/html": [
       "<div>\n",
       "<style scoped>\n",
       "    .dataframe tbody tr th:only-of-type {\n",
       "        vertical-align: middle;\n",
       "    }\n",
       "\n",
       "    .dataframe tbody tr th {\n",
       "        vertical-align: top;\n",
       "    }\n",
       "\n",
       "    .dataframe thead th {\n",
       "        text-align: right;\n",
       "    }\n",
       "</style>\n",
       "<table border=\"1\" class=\"dataframe\">\n",
       "  <thead>\n",
       "    <tr style=\"text-align: right;\">\n",
       "      <th></th>\n",
       "      <th>Location</th>\n",
       "      <th>Latitud</th>\n",
       "      <th>Longitud</th>\n",
       "      <th>City</th>\n",
       "      <th>Number of Days</th>\n",
       "      <th>Cluster</th>\n",
       "      <th>Distance</th>\n",
       "      <th>Walking_Time</th>\n",
       "      <th>Visit_Time</th>\n",
       "      <th>Total_Time</th>\n",
       "    </tr>\n",
       "  </thead>\n",
       "  <tbody>\n",
       "    <tr>\n",
       "      <th>0</th>\n",
       "      <td>Pantheon</td>\n",
       "      <td>41.898609</td>\n",
       "      <td>12.476873</td>\n",
       "      <td>Roma</td>\n",
       "      <td>2</td>\n",
       "      <td>0</td>\n",
       "      <td>9.3043</td>\n",
       "      <td>1.86086</td>\n",
       "      <td>0.75</td>\n",
       "      <td>2.61086</td>\n",
       "    </tr>\n",
       "    <tr>\n",
       "      <th>1</th>\n",
       "      <td>Colosseo</td>\n",
       "      <td>41.890251</td>\n",
       "      <td>12.492373</td>\n",
       "      <td>Roma</td>\n",
       "      <td>2</td>\n",
       "      <td>0</td>\n",
       "      <td>9.3043</td>\n",
       "      <td>1.86086</td>\n",
       "      <td>1.50</td>\n",
       "      <td>3.36086</td>\n",
       "    </tr>\n",
       "    <tr>\n",
       "      <th>2</th>\n",
       "      <td>Foro Romano</td>\n",
       "      <td>41.892464</td>\n",
       "      <td>12.485325</td>\n",
       "      <td>Roma</td>\n",
       "      <td>2</td>\n",
       "      <td>0</td>\n",
       "      <td>9.3043</td>\n",
       "      <td>1.86086</td>\n",
       "      <td>1.00</td>\n",
       "      <td>2.86086</td>\n",
       "    </tr>\n",
       "  </tbody>\n",
       "</table>\n",
       "</div>"
      ],
      "text/plain": [
       "      Location    Latitud   Longitud  City Number of Days Cluster  Distance  \\\n",
       "0     Pantheon  41.898609  12.476873  Roma              2       0    9.3043   \n",
       "1     Colosseo  41.890251  12.492373  Roma              2       0    9.3043   \n",
       "2  Foro Romano  41.892464  12.485325  Roma              2       0    9.3043   \n",
       "\n",
       "   Walking_Time  Visit_Time  Total_Time  \n",
       "0       1.86086        0.75     2.61086  \n",
       "1       1.86086        1.50     3.36086  \n",
       "2       1.86086        1.00     2.86086  "
      ]
     },
     "execution_count": 46,
     "metadata": {},
     "output_type": "execute_result"
    }
   ],
   "source": [
    "roma_unpivoted = roma_unpivoted.rename(columns={\"variable\": \"Number of Days\"})\n",
    "roma_unpivoted.head(3)"
   ]
  },
  {
   "cell_type": "code",
   "execution_count": 47,
   "metadata": {},
   "outputs": [],
   "source": [
    "roma_unpivoted.to_excel('Roma_Final_.xlsx')"
   ]
  },
  {
   "cell_type": "code",
   "execution_count": null,
   "metadata": {},
   "outputs": [],
   "source": []
  }
 ],
 "metadata": {
  "kernelspec": {
   "display_name": "Python 3",
   "language": "python",
   "name": "python3"
  },
  "language_info": {
   "codemirror_mode": {
    "name": "ipython",
    "version": 3
   },
   "file_extension": ".py",
   "mimetype": "text/x-python",
   "name": "python",
   "nbconvert_exporter": "python",
   "pygments_lexer": "ipython3",
   "version": "3.7.6"
  }
 },
 "nbformat": 4,
 "nbformat_minor": 4
}
